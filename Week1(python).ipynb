{
  "nbformat": 4,
  "nbformat_minor": 0,
  "metadata": {
    "colab": {
      "provenance": [],
      "authorship_tag": "ABX9TyOqn8QX4F9ZsbeNZ7wM5rMn",
      "include_colab_link": true
    },
    "kernelspec": {
      "name": "python3",
      "display_name": "Python 3"
    },
    "language_info": {
      "name": "python"
    }
  },
  "cells": [
    {
      "cell_type": "markdown",
      "metadata": {
        "id": "view-in-github",
        "colab_type": "text"
      },
      "source": [
        "<a href=\"https://colab.research.google.com/github/DevrajGhosh/Preplacement-Coding/blob/main/Week1(python).ipynb\" target=\"_parent\"><img src=\"https://colab.research.google.com/assets/colab-badge.svg\" alt=\"Open In Colab\"/></a>"
      ]
    },
    {
      "cell_type": "code",
      "source": [
        "# 1. Insert an element at end of array\n",
        "class Solution:\n",
        "    def insertAtEnd(self, arr, val):\n",
        "        arr.append(val)\n",
        "        return arr\n",
        "\n",
        "arr = list(map(int, input().split()))\n",
        "val = int(input())\n",
        "print(Solution().insertAtEnd(arr, val))"
      ],
      "metadata": {
        "id": "OEhlg8PPmOk9",
        "outputId": "be37a7ee-2f21-4905-fe04-a81389979591",
        "colab": {
          "base_uri": "https://localhost:8080/"
        }
      },
      "execution_count": 5,
      "outputs": [
        {
          "output_type": "stream",
          "name": "stdout",
          "text": [
            "1 2 3\n",
            "4\n",
            "[1, 2, 3, 4]\n"
          ]
        }
      ]
    },
    {
      "cell_type": "code",
      "source": [
        "# 2. Find largest element in array\n",
        "class Solution:\n",
        "    def largest(self, arr):\n",
        "        a = arr[0]\n",
        "        for i in range(1, len(arr)):\n",
        "            if a < arr[i]:\n",
        "                a = arr[i]\n",
        "        return a\n",
        "\n",
        "arr = list(map(int, input().split()))\n",
        "print(Solution().largest(arr))\n"
      ],
      "metadata": {
        "id": "YAyW2supmQIq",
        "outputId": "21f1440e-35c0-40a0-f9e4-ae6c154c4674",
        "colab": {
          "base_uri": "https://localhost:8080/"
        }
      },
      "execution_count": 6,
      "outputs": [
        {
          "output_type": "stream",
          "name": "stdout",
          "text": [
            "1 5 7 9 100\n",
            "100\n"
          ]
        }
      ]
    },
    {
      "cell_type": "code",
      "source": [
        "# 3. Find second largest element\n",
        "class Solution:\n",
        "    def getSecondLargest(self, arr):\n",
        "        n = len(arr)\n",
        "        lg = float('-inf')  # largest\n",
        "        sl = float('-inf')\n",
        "        for i in arr:\n",
        "            if(lg<i):\n",
        "                sl = lg\n",
        "                lg = i\n",
        "            elif(sl<i and i!=lg):\n",
        "                sl = i\n",
        "        if(sl!=float('-inf')):\n",
        "            return sl\n",
        "        else:\n",
        "            return -1\n",
        "\n",
        "arr = list(map(int, input().split()))\n",
        "print(Solution().getSecondLargest(arr))\n"
      ],
      "metadata": {
        "id": "pJkZwS2Vm07N",
        "outputId": "3056e2dc-16d1-4c8c-9538-f872efd5a110",
        "colab": {
          "base_uri": "https://localhost:8080/"
        }
      },
      "execution_count": 7,
      "outputs": [
        {
          "output_type": "stream",
          "name": "stdout",
          "text": [
            "1 2 3 4 5 \n",
            "4\n"
          ]
        }
      ]
    },
    {
      "cell_type": "code",
      "source": [
        "# 4. Move all zeros to end\n",
        "class Solution:\n",
        "    def pushZerosToEnd(self, arr):\n",
        "        n = len(arr)\n",
        "        count = 0\n",
        "\n",
        "        for i in range(n):\n",
        "            if arr[i] != 0:\n",
        "                arr[count] = arr[i]\n",
        "                count += 1\n",
        "\n",
        "        while count < n:\n",
        "            arr[count] = 0\n",
        "            count += 1\n",
        "\n",
        "        return arr\n",
        "\n",
        "arr = list(map(int, input().split()))\n",
        "print(Solution().pushZerosToEnd(arr))\n"
      ],
      "metadata": {
        "id": "GnX9HnPSnUB_",
        "outputId": "85edb1db-933d-4b26-f470-3fb14cfa6652",
        "colab": {
          "base_uri": "https://localhost:8080/"
        }
      },
      "execution_count": 8,
      "outputs": [
        {
          "output_type": "stream",
          "name": "stdout",
          "text": [
            "1 0 2 0 0 4\n",
            "[1, 2, 4, 0, 0, 0]\n"
          ]
        }
      ]
    },
    {
      "cell_type": "code",
      "source": [
        "# 5. Rotate array by one\n",
        "class Solution:\n",
        "    def rotate(self, arr):\n",
        "        n = len(arr)\n",
        "        last = arr[n-1]\n",
        "        for i in range(n-2, -1, -1):\n",
        "            arr[i+1] = arr[i]\n",
        "        arr[0] = last\n",
        "        return arr\n",
        "\n",
        "arr = list(map(int, input().split()))\n",
        "print(Solution().rotate(arr))\n"
      ],
      "metadata": {
        "id": "Zkg_im6KnhFk",
        "outputId": "38594043-a264-4764-f097-3fb7fe6ed2fb",
        "colab": {
          "base_uri": "https://localhost:8080/"
        }
      },
      "execution_count": 10,
      "outputs": [
        {
          "output_type": "stream",
          "name": "stdout",
          "text": [
            "1 2 3 4 5\n",
            "[5, 1, 2, 3, 4]\n"
          ]
        }
      ]
    },
    {
      "cell_type": "code",
      "execution_count": 4,
      "metadata": {
        "colab": {
          "base_uri": "https://localhost:8080/"
        },
        "id": "Fm61tRPg2TPE",
        "outputId": "c14685da-c177-4076-e648-dd9b6a9df604"
      },
      "outputs": [
        {
          "output_type": "stream",
          "name": "stdout",
          "text": [
            "Enter number of elements: 1\n",
            "Enter the elements separated by space: 1 2 3\n",
            "True\n"
          ]
        }
      ],
      "source": [
        "# 6. Check if array is sorted\n",
        "class Solution:\n",
        "    def isSorted(self, arr) -> bool:\n",
        "        brr = sorted(arr)\n",
        "        check = 1\n",
        "        n = len(arr)\n",
        "        for i in range(n):\n",
        "            if arr[i] != brr[i]:\n",
        "                check = 0\n",
        "                break\n",
        "        return check == 1\n",
        "\n",
        "n = int(input(\"Enter number of elements: \"))\n",
        "arr = list(map(int, input(\"Enter the elements separated by space: \").split()))\n",
        "\n",
        "sol = Solution()\n",
        "print( sol.isSorted(arr))\n"
      ]
    },
    {
      "cell_type": "code",
      "source": [
        "# 7. Reverse a string\n",
        "class Solution:\n",
        "    def reverseString(self, s: str) -> str:\n",
        "        # code here\n",
        "        brr = []\n",
        "        n = len(s)\n",
        "        for i in range(n-1, -1, -1):\n",
        "            brr.append(s[i])\n",
        "        return \"\".join(brr)\n",
        "\n",
        "s = input()\n",
        "print(Solution().reverseString(s))\n"
      ],
      "metadata": {
        "id": "tc2mDTCSn2lv",
        "outputId": "0e192fd5-ee45-4750-ed7f-1a25247dd41c",
        "colab": {
          "base_uri": "https://localhost:8080/"
        }
      },
      "execution_count": 11,
      "outputs": [
        {
          "output_type": "stream",
          "name": "stdout",
          "text": [
            "GeeksforGeeks\n",
            "skeeGrofskeeG\n"
          ]
        }
      ]
    },
    {
      "cell_type": "code",
      "source": [
        "# 8. Check if string is palindrome\n",
        "class Solution:\n",
        "    def isPalindrome(self, s: str) -> bool:\n",
        "        i, j = 0, len(s) - 1\n",
        "        while i < j:\n",
        "            if s[i] != s[j]:\n",
        "                return False\n",
        "            i += 1\n",
        "            j -= 1\n",
        "        return True\n",
        "\n",
        "s = input()\n",
        "print(Solution().isPalindrome(s))\n"
      ],
      "metadata": {
        "id": "Vl3G3Xl0oByE",
        "outputId": "904bbfdb-664a-4634-8296-6150dd679aa1",
        "colab": {
          "base_uri": "https://localhost:8080/"
        }
      },
      "execution_count": 12,
      "outputs": [
        {
          "output_type": "stream",
          "name": "stdout",
          "text": [
            "madam\n",
            "True\n"
          ]
        }
      ]
    },
    {
      "cell_type": "code",
      "source": [
        "# 9. Count frequency of array elements (1 to n)\n",
        "class Solution:\n",
        "    def frequencyCount(self, arr):\n",
        "        # code here\n",
        "        n = len(arr)\n",
        "        freq = [0] * n\n",
        "        for num in arr:\n",
        "            if 1 <= num <= n:\n",
        "                freq[num-1] += 1\n",
        "        return freq\n",
        "\n",
        "arr = list(map(int, input().split()))\n",
        "print(Solution().frequencyCount(arr))\n"
      ],
      "metadata": {
        "id": "nladiGC8oLqF",
        "outputId": "802345ed-de00-4b9c-e8dd-98bf7044bd0b",
        "colab": {
          "base_uri": "https://localhost:8080/"
        }
      },
      "execution_count": 13,
      "outputs": [
        {
          "output_type": "stream",
          "name": "stdout",
          "text": [
            "1 1 2 2 5\n",
            "[2, 2, 0, 0, 1]\n"
          ]
        }
      ]
    },
    {
      "cell_type": "code",
      "source": [
        "# 10. reverse an array\n",
        "def reverseArray(arr):\n",
        "    return arr[::-1]\n",
        "\n",
        "\n",
        "arr = list(map(int, input().split()))\n",
        "\n",
        "reversed_arr = reverseArray(arr)\n",
        "\n",
        "print(' '.join(map(str, reversed_arr)))\n"
      ],
      "metadata": {
        "id": "NNVxV7kVoXO8",
        "outputId": "d7d4a656-8b58-4dc7-a384-de7c7347722a",
        "colab": {
          "base_uri": "https://localhost:8080/"
        }
      },
      "execution_count": 16,
      "outputs": [
        {
          "output_type": "stream",
          "name": "stdout",
          "text": [
            "1 2 3 4 5\n",
            "5 4 3 2 1\n"
          ]
        }
      ]
    }
  ]
}