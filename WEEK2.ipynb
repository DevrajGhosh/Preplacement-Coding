{
  "nbformat": 4,
  "nbformat_minor": 0,
  "metadata": {
    "colab": {
      "provenance": [],
      "authorship_tag": "ABX9TyPDYtWGPTagkT7dXecrjapV",
      "include_colab_link": true
    },
    "kernelspec": {
      "name": "python3",
      "display_name": "Python 3"
    },
    "language_info": {
      "name": "python"
    }
  },
  "cells": [
    {
      "cell_type": "markdown",
      "metadata": {
        "id": "view-in-github",
        "colab_type": "text"
      },
      "source": [
        "<a href=\"https://colab.research.google.com/github/DevrajGhosh/Preplacement-Coding/blob/main/WEEK2.ipynb\" target=\"_parent\"><img src=\"https://colab.research.google.com/assets/colab-badge.svg\" alt=\"Open In Colab\"/></a>"
      ]
    },
    {
      "cell_type": "code",
      "source": [
        "#1. Print matrix in spiral form\n",
        "\n",
        "def print_spiral(matrix):\n",
        "    top, bottom = 0, len(matrix) - 1\n",
        "    left, right = 0, len(matrix[0]) - 1\n",
        "    result = []\n",
        "\n",
        "    while top <= bottom and left <= right:\n",
        "        for i in range(left, right + 1):\n",
        "            result.append(matrix[top][i])\n",
        "        top += 1\n",
        "\n",
        "        for i in range(top, bottom + 1):\n",
        "            result.append(matrix[i][right])\n",
        "        right -= 1\n",
        "\n",
        "        if top <= bottom:\n",
        "            for i in range(right, left - 1, -1):\n",
        "                result.append(matrix[bottom][i])\n",
        "            bottom -= 1\n",
        "\n",
        "        if left <= right:\n",
        "            for i in range(bottom, top - 1, -1):\n",
        "                result.append(matrix[i][left])\n",
        "            left += 1\n",
        "\n",
        "    print(\"Spiral order:\", result)\n",
        "\n",
        "rows = int(input(\"Enter number of rows: \"))\n",
        "cols = int(input(\"Enter number of columns: \"))\n",
        "print(\"Enter matrix:\")\n",
        "matrix = [list(map(int, input().split())) for _ in range(rows)]\n",
        "\n",
        "print_spiral(matrix)\n"
      ],
      "metadata": {
        "colab": {
          "base_uri": "https://localhost:8080/"
        },
        "id": "gHFaB5K6FTbf",
        "outputId": "23c8dae3-3a1a-42f0-905b-60e1cb67fefa"
      },
      "execution_count": 5,
      "outputs": [
        {
          "output_type": "stream",
          "name": "stdout",
          "text": [
            "Enter number of rows: 3\n",
            "Enter number of columns: 3\n",
            "Enter matrix:\n",
            "1 2 3\n",
            "4 5 6\n",
            "7 8 9\n",
            "Spiral order: [1, 2, 3, 6, 9, 8, 7, 4, 5]\n"
          ]
        }
      ]
    },
    {
      "cell_type": "code",
      "source": [
        "#2. Rotate matrix by 90 degree\n",
        "\n",
        "def rotate_matrix_90(matrix):\n",
        "    return [list(reversed(col)) for col in zip(*matrix)]\n",
        "\n",
        "rows = int(input(\"Enter number of rows: \"))\n",
        "cols = int(input(\"Enter number of columns: \"))\n",
        "\n",
        "print(\"Enter matrix:\")\n",
        "matrix = [list(map(int, input().split())) for _ in range(rows)]\n",
        "\n",
        "rotated = rotate_matrix_90(matrix)\n",
        "\n",
        "print(\"Matrix after 90° rotation:\")\n",
        "for row in rotated:\n",
        "    print(*row)\n"
      ],
      "metadata": {
        "colab": {
          "base_uri": "https://localhost:8080/"
        },
        "id": "fpkFJBm4FOLo",
        "outputId": "1d2c3165-6029-4233-d262-c7b740002b60"
      },
      "execution_count": 4,
      "outputs": [
        {
          "output_type": "stream",
          "name": "stdout",
          "text": [
            "Enter number of rows: 2\n",
            "Enter number of columns: 2\n",
            "Enter matrix:\n",
            "1 2\n",
            "3 4\n",
            "Matrix after 90° rotation:\n",
            "3 1\n",
            "4 2\n"
          ]
        }
      ]
    },
    {
      "cell_type": "code",
      "source": [
        "#3. Sum of diagonals\n",
        "\n",
        "def diagonal_sums(matrix):\n",
        "    n = len(matrix)\n",
        "    main = sum(matrix[i][i] for i in range(n))\n",
        "    sec = sum(matrix[i][n - 1 - i] for i in range(n))\n",
        "    print(\"Main diagonal sum:\", main)\n",
        "    print(\"Secondary diagonal sum:\", sec)\n",
        "\n",
        "n = int(input(\"Enter size of square matrix: \"))\n",
        "print(\"Enter matrix:\")\n",
        "matrix = [list(map(int, input().split())) for _ in range(n)]\n",
        "\n",
        "diagonal_sums(matrix)\n",
        "\n"
      ],
      "metadata": {
        "colab": {
          "base_uri": "https://localhost:8080/"
        },
        "id": "6_dUuvK_Fa0u",
        "outputId": "e60d86e6-3c74-4150-cbb9-90bdd4c30136"
      },
      "execution_count": 7,
      "outputs": [
        {
          "output_type": "stream",
          "name": "stdout",
          "text": [
            "Enter size of square matrix: 3\n",
            "Enter matrix:\n",
            "1 2 3\n",
            "4 5 6\n",
            "7 8 9\n",
            "Main diagonal sum: 15\n",
            "Secondary diagonal sum: 15\n"
          ]
        }
      ]
    },
    {
      "cell_type": "code",
      "execution_count": 3,
      "metadata": {
        "colab": {
          "base_uri": "https://localhost:8080/"
        },
        "id": "nCrkZm9_EtuR",
        "outputId": "4c797235-2480-4d9d-ba14-8325b20d19de"
      },
      "outputs": [
        {
          "output_type": "stream",
          "name": "stdout",
          "text": [
            "Enter number of rows: 3\n",
            "Enter number of columns: 3\n",
            "Enter matrix:\n",
            "1 2 3 \n",
            "4 5 6\n",
            "7 8 9\n",
            "Transposed Matrix:\n",
            "1 4 7\n",
            "2 5 8\n",
            "3 6 9\n"
          ]
        }
      ],
      "source": [
        "#4. Transpose of matrix\n",
        "\n",
        "def transpose_matrix(matrix):\n",
        "    return [list(row) for row in zip(*matrix)]\n",
        "\n",
        "rows = int(input(\"Enter number of rows: \"))\n",
        "cols = int(input(\"Enter number of columns: \"))\n",
        "\n",
        "print(\"Enter matrix:\")\n",
        "matrix = [list(map(int, input().split())) for _ in range(rows)]\n",
        "\n",
        "transposed = transpose_matrix(matrix)\n",
        "\n",
        "print(\"Transposed Matrix:\")\n",
        "for row in transposed:\n",
        "    print(*row)\n"
      ]
    },
    {
      "cell_type": "code",
      "source": [
        "#5. Check if matrix is sparse\n",
        "\n",
        "def is_sparse(matrix):\n",
        "    total = len(matrix) * len(matrix[0])\n",
        "    zeros = sum(row.count(0) for row in matrix)\n",
        "    return zeros > total / 2\n",
        "\n",
        "rows = int(input(\"Enter number of rows: \"))\n",
        "cols = int(input(\"Enter number of columns: \"))\n",
        "print(\"Enter matrix:\")\n",
        "matrix = [list(map(int, input().split())) for _ in range(rows)]\n",
        "\n",
        "print(\"Sparse Matrix\" if is_sparse(matrix) else \"Not a Sparse Matrix\")\n"
      ],
      "metadata": {
        "colab": {
          "base_uri": "https://localhost:8080/"
        },
        "id": "01Dvd4-kF5Rx",
        "outputId": "1ffc5cf2-2923-45bc-9786-3a71214e6a77"
      },
      "execution_count": 10,
      "outputs": [
        {
          "output_type": "stream",
          "name": "stdout",
          "text": [
            "Enter number of rows: 2\n",
            "Enter number of columns: 3\n",
            "Enter matrix:\n",
            "1 0 0\n",
            "0 2 0\n",
            "Sparse Matrix\n"
          ]
        }
      ]
    },
    {
      "cell_type": "code",
      "source": [
        "# 8. Dynamic array operations\n",
        "\n",
        "def display(arr):\n",
        "    print(\"Array:\", arr)\n",
        "\n",
        "arr = []\n",
        "\n",
        "while True:\n",
        "    print(\"\\n1. Insert\\n2. Delete\\n3. Display\\n4. Exit\")\n",
        "    choice = input(\"Enter choice: \")\n",
        "\n",
        "    if choice == '1':\n",
        "        val = int(input(\"Enter value to insert: \"))\n",
        "        arr.append(val)\n",
        "    elif choice == '2':\n",
        "        if arr:\n",
        "            val = int(input(\"Enter value to delete: \"))\n",
        "            if val in arr:\n",
        "                arr.remove(val)\n",
        "            else:\n",
        "                print(\"Element not found.\")\n",
        "        else:\n",
        "            print(\"Array is empty.\")\n",
        "    elif choice == '3':\n",
        "        display(arr)\n",
        "    elif choice == '4':\n",
        "        break\n",
        "    else:\n",
        "        print(\"Invalid choice.\")\n"
      ],
      "metadata": {
        "colab": {
          "base_uri": "https://localhost:8080/"
        },
        "id": "0xvNlgVJGQXA",
        "outputId": "be90d774-f23c-45e7-bb4c-87889c5cd66d"
      },
      "execution_count": 12,
      "outputs": [
        {
          "name": "stdout",
          "output_type": "stream",
          "text": [
            "\n",
            "1. Insert\n",
            "2. Delete\n",
            "3. Display\n",
            "4. Exit\n",
            "Enter choice: 1\n",
            "Enter value to insert: 1\n",
            "\n",
            "1. Insert\n",
            "2. Delete\n",
            "3. Display\n",
            "4. Exit\n",
            "Enter choice: 1\n",
            "Enter value to insert: 2\n",
            "\n",
            "1. Insert\n",
            "2. Delete\n",
            "3. Display\n",
            "4. Exit\n",
            "Enter choice: 3\n",
            "Array: [1, 2]\n",
            "\n",
            "1. Insert\n",
            "2. Delete\n",
            "3. Display\n",
            "4. Exit\n",
            "Enter choice: 4\n"
          ]
        }
      ]
    },
    {
      "cell_type": "code",
      "source": [
        "# 9. Identity matrix check\n",
        "\n",
        "def is_identity(matrix):\n",
        "    n = len(matrix)\n",
        "    for i in range(n):\n",
        "        for j in range(n):\n",
        "            if (i == j and matrix[i][j] != 1) or (i != j and matrix[i][j] != 0):\n",
        "                return False\n",
        "    return True\n",
        "\n",
        "n = int(input(\"Enter size of square matrix: \"))\n",
        "print(\"Enter matrix:\")\n",
        "matrix = [list(map(int, input().split())) for _ in range(n)]\n",
        "\n",
        "print(\"Identity Matrix\" if is_identity(matrix) else \"Not an Identity Matrix\")\n"
      ],
      "metadata": {
        "colab": {
          "base_uri": "https://localhost:8080/"
        },
        "id": "3VYFIM5JFpYV",
        "outputId": "98fa1b0c-96b4-4139-f640-3baab706248e"
      },
      "execution_count": 8,
      "outputs": [
        {
          "output_type": "stream",
          "name": "stdout",
          "text": [
            "Enter size of square matrix: 3\n",
            "Enter matrix:\n",
            "1 0 0\n",
            "0 1 0\n",
            "0 0 1\n",
            "Identity Matrix\n"
          ]
        }
      ]
    },
    {
      "cell_type": "code",
      "source": [
        "# 10. Count zeros in matrix\n",
        "\n",
        "def count_zeros(matrix):\n",
        "    return sum(row.count(0) for row in matrix)\n",
        "\n",
        "rows = int(input(\"Enter number of rows: \"))\n",
        "cols = int(input(\"Enter number of columns: \"))\n",
        "print(\"Enter matrix:\")\n",
        "matrix = [list(map(int, input().split())) for _ in range(rows)]\n",
        "\n",
        "print(\"Number of zeros:\", count_zeros(matrix))\n"
      ],
      "metadata": {
        "colab": {
          "base_uri": "https://localhost:8080/"
        },
        "id": "k-UymL6KFynY",
        "outputId": "01ed7c28-ff4b-419a-c7bf-8e0a2a08edae"
      },
      "execution_count": 9,
      "outputs": [
        {
          "output_type": "stream",
          "name": "stdout",
          "text": [
            "Enter number of rows: 2\n",
            "Enter number of columns: 3\n",
            "Enter matrix:\n",
            "1 0 0 \n",
            "0 2 3\n",
            "Number of zeros: 3\n"
          ]
        }
      ]
    }
  ]
}